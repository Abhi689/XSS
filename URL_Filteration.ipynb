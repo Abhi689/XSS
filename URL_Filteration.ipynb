{
 "cells": [
  {
   "cell_type": "code",
   "execution_count": 1,
   "id": "9b46fbb0",
   "metadata": {},
   "outputs": [
    {
     "name": "stdout",
     "output_type": "stream",
     "text": [
      "URL:  https://cutm.ac.in/\n",
      "URL length:  312756\n",
      "Server type:  cloudflare\n",
      "Charset:  UTF-8\n"
     ]
    }
   ],
   "source": [
    "import requests\n",
    "from urllib.parse import urlparse\n",
    "\n",
    "url = \"https://cutm.ac.in/\"\n",
    "\n",
    "# Send a GET request to the URL\n",
    "response = requests.get(url)\n",
    "\n",
    "# Get the length of the response content\n",
    "content_length = len(response.content)\n",
    "\n",
    "# Get the server type from the response headers\n",
    "server = response.headers.get(\"Server\")\n",
    "\n",
    "# Get the charset from the response headers\n",
    "charset = response.encoding\n",
    "\n",
    "# Print the extracted information\n",
    "print(\"URL: \", url)\n",
    "print(\"URL length: \", content_length)\n",
    "print(\"Server type: \", server)\n",
    "print(\"Charset: \", charset)"
   ]
  },
  {
   "cell_type": "code",
   "execution_count": 6,
   "id": "0748aafb",
   "metadata": {},
   "outputs": [
    {
     "name": "stdout",
     "output_type": "stream",
     "text": [
      "URL:  https://cutm.ac.in/\n",
      "URL length:  None\n",
      "Server type:  cloudflare\n",
      "Charset:  UTF-8\n",
      "Number of special characters:  217888\n",
      "Content length:  None\n",
      "WHOIS country:  IN\n",
      "WHOIS registration date:  2010-10-19 05:46:35\n",
      "TCP conversation exchange:  0\n",
      "DIST remote TCP port:  None\n",
      "APP bytes:  None\n",
      "APP packets:  None\n",
      "DNS query times:  None\n"
     ]
    }
   ],
   "source": [
    "import requests\n",
    "from urllib.parse import urlparse\n",
    "import whois\n",
    "\n",
    "url = \"https://cutm.ac.in/\"\n",
    "\n",
    "# Send a GET request to the URL\n",
    "response = requests.get(url)\n",
    "\n",
    "# Get the length of the response content\n",
    "content_length = len(response.content)\n",
    "\n",
    "# Get the server type from the response headers\n",
    "server = response.headers.get(\"Server\")\n",
    "\n",
    "# Get the charset from the response headers\n",
    "charset = response.encoding\n",
    "\n",
    "# Extract additional information using the whois module\n",
    "parsed_url = urlparse(url)\n",
    "domain_name = parsed_url.netloc\n",
    "whois_info = whois.whois(domain_name)\n",
    "\n",
    "# Extract the relevant information from the whois response\n",
    "number_special_characters = sum(map(str.isalnum, response.text))\n",
    "content_length = response.headers.get('Content-Length')\n",
    "whois_country = whois_info.country\n",
    "whois_registration_date = whois_info.creation_date\n",
    "tcp_conversation_exchange = len(response.history)\n",
    "dist_remote_tcp_port = response.headers.get('X-DNS-Prefetch-Control')\n",
    "# remote_ips = len(response.raw._connection.sock.getpeername())\n",
    "app_bytes = response.headers.get('Content-Length')\n",
    "app_packets = response.headers.get('X-Content-Type-Options')\n",
    "dns_query_times = response.headers.get('Retry-After')\n",
    "\n",
    "# Print the extracted information\n",
    "print(\"URL: \", url)\n",
    "print(\"URL length: \", content_length)\n",
    "print(\"Server type: \", server)\n",
    "print(\"Charset: \", charset)\n",
    "print(\"Number of special characters: \", number_special_characters)\n",
    "print(\"Content length: \", content_length)\n",
    "print(\"WHOIS country: \", whois_country)\n",
    "print(\"WHOIS registration date: \", whois_registration_date)\n",
    "print(\"TCP conversation exchange: \", tcp_conversation_exchange)\n",
    "print(\"DIST remote TCP port: \", dist_remote_tcp_port)\n",
    "# print(\"Number of remote IPs: \", remote_ips)\n",
    "print(\"APP bytes: \", app_bytes)\n",
    "print(\"APP packets: \", app_packets)\n",
    "print(\"DNS query times: \", dns_query_times)\n"
   ]
  },
  {
   "cell_type": "code",
   "execution_count": 2,
   "id": "4ad38180",
   "metadata": {},
   "outputs": [],
   "source": [
    "import requests\n",
    "from bs4 import BeautifulSoup\n",
    "\n",
    "url = \"https://cutm.ac.in/\"\n",
    "\n",
    "def check_xss_vulnerability(url):\n",
    "    # Make a GET request to the website\n",
    "    response = requests.get(url)\n",
    "    \n",
    "    # Parse the HTML content of the website using BeautifulSoup\n",
    "    soup = BeautifulSoup(response.text, 'html.parser')\n",
    "    \n",
    "    # Check if any of the input fields on the page contain special characters\n",
    "    for input_field in soup.find_all('input'):\n",
    "        if '<' in str(input_field) or '>' in str(input_field):\n",
    "            return \"XSS Vulnerability Detected\"\n",
    "    \n",
    "    # Check if any of the URL parameters contain special characters\n",
    "    if '<' in url or '>' in url:\n",
    "        return \"XSS Vulnerability Detected\"\n",
    "    \n",
    "    # If none of the input fields or URL parameters contain special characters, the website is not vulnerable to XSS\n",
    "    return \"No XSS Vulnerability Detected\"\n"
   ]
  },
  {
   "cell_type": "code",
   "execution_count": null,
   "id": "ca987797",
   "metadata": {},
   "outputs": [],
   "source": []
  }
 ],
 "metadata": {
  "kernelspec": {
   "display_name": "Python 3",
   "language": "python",
   "name": "python3"
  },
  "language_info": {
   "codemirror_mode": {
    "name": "ipython",
    "version": 3
   },
   "file_extension": ".py",
   "mimetype": "text/x-python",
   "name": "python",
   "nbconvert_exporter": "python",
   "pygments_lexer": "ipython3",
   "version": "3.8.8"
  }
 },
 "nbformat": 4,
 "nbformat_minor": 5
}
